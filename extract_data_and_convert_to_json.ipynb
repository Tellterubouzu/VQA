{
 "cells": [
  {
   "cell_type": "code",
   "execution_count": 3,
   "metadata": {},
   "outputs": [],
   "source": [
    "import pandas as pd\n",
    "# ファイルの読み込み\n",
    "def extract_data(file_path='../data/processed_train.csv',unanswerable_num=600,answerable_num=1400,name=\"extract_train\"):\n",
    "    data = pd.read_csv(file_path)\n",
    "    unanswerable_data = data[data['answer'] == 'unanswerable'].sample(n=unanswerable_num, random_state=1)\n",
    "    answerable_data = data[data['answer'] != 'unanswerable'].sample(n=answerable_num, random_state=1)\n",
    "    sampled_data = pd.concat([unanswerable_data, answerable_data])\n",
    "    output_path = f'./data/{name}_{unanswerable_num+answerable_num}.csv'\n",
    "    sampled_data.to_csv(output_path, index=False)\n",
    "    return output_path\n",
    "import csv\n",
    "import json\n",
    "import os\n",
    "\n",
    "def csv_to_json(un_num=600,an_num = 1400,name = \"extract_train\",image_dir='../data/train'):\n",
    "    data = []\n",
    "    csv_file_path = extract_data(unanswerable_num=600,answerable_num=1400,name=\"extract_train_0714_test\")\n",
    "    with open(csv_file_path, newline='', encoding='utf-8') as csvfile:\n",
    "        reader = csv.DictReader(csvfile)\n",
    "        for row in reader:\n",
    "            image_path = os.path.join(image_dir, row['image'])\n",
    "            conversation = [\n",
    "                {\"role\": \"user\", \"content\": row['question']},\n",
    "                {\"role\": \"assistant\", \"content\": row['answer']}\n",
    "            ]\n",
    "            entry = {\n",
    "                \"image\": image_path,\n",
    "                \"conversations\": conversation\n",
    "            }\n",
    "            data.append(entry)\n",
    "    \n",
    "    with open(f'./data/{name}_{un_num+an_num}.json', 'w', encoding='utf-8') as jsonfile:\n",
    "        json.dump(data, jsonfile, ensure_ascii=False, indent=4)\n",
    "\n",
    "csv_to_json(name= \"for_eval\",an_num=60,un_num=40)\n"
   ]
  }
 ],
 "metadata": {
  "kernelspec": {
   "display_name": "env",
   "language": "python",
   "name": "python3"
  },
  "language_info": {
   "codemirror_mode": {
    "name": "ipython",
    "version": 3
   },
   "file_extension": ".py",
   "mimetype": "text/x-python",
   "name": "python",
   "nbconvert_exporter": "python",
   "pygments_lexer": "ipython3",
   "version": "3.11.9"
  }
 },
 "nbformat": 4,
 "nbformat_minor": 2
}
