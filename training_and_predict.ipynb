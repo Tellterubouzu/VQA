{
 "cells": [
  {
   "cell_type": "code",
   "execution_count": 4,
   "metadata": {},
   "outputs": [
    {
     "name": "stderr",
     "output_type": "stream",
     "text": [
      "`low_cpu_mem_usage` was None, now set to True since model is quantized.\n"
     ]
    },
    {
     "name": "stdout",
     "output_type": "stream",
     "text": [
      "Total number of samples in test_loader: 4969\n"
     ]
    },
    {
     "name": "stderr",
     "output_type": "stream",
     "text": [
      "Loading checkpoint shards: 100%|██████████| 7/7 [00:02<00:00,  2.52it/s]\n",
      "Special tokens have been added in the vocabulary, make sure the associated word embeddings are fine-tuned or trained.\n"
     ]
    },
    {
     "name": "stdout",
     "output_type": "stream",
     "text": [
      "# Progress 0.02012477359629704 % has finished\n",
      "# Progress 0.42262024552223787 % has finished\n",
      "# Progress 0.8251157174481787 % has finished\n",
      "# Progress 1.2276111893741195 % has finished\n",
      "# Progress 1.6301066613000605 % has finished\n",
      "# Progress 2.032602133226001 % has finished\n",
      "# Progress 2.435097605151942 % has finished\n",
      "# Progress 2.837593077077883 % has finished\n",
      "# Progress 3.240088549003824 % has finished\n",
      "# Progress 3.6425840209297644 % has finished\n",
      "# Progress 4.045079492855706 % has finished\n",
      "# Progress 4.447574964781646 % has finished\n",
      "# Progress 4.850070436707587 % has finished\n",
      "# Progress 5.252565908633528 % has finished\n",
      "# Progress 5.655061380559469 % has finished\n",
      "# Progress 6.057556852485409 % has finished\n",
      "# Progress 6.46005232441135 % has finished\n",
      "# Progress 6.862547796337291 % has finished\n",
      "# Progress 7.265043268263232 % has finished\n",
      "# Progress 7.667538740189173 % has finished\n",
      "# Progress 8.070034212115115 % has finished\n",
      "# Progress 8.472529684041055 % has finished\n",
      "# Progress 8.875025155966995 % has finished\n",
      "# Progress 9.277520627892937 % has finished\n",
      "# Progress 9.680016099818877 % has finished\n",
      "# Progress 10.082511571744817 % has finished\n",
      "# Progress 10.485007043670759 % has finished\n",
      "# Progress 10.8875025155967 % has finished\n",
      "# Progress 11.289997987522641 % has finished\n",
      "# Progress 11.692493459448581 % has finished\n",
      "# Progress 12.094988931374521 % has finished\n",
      "# Progress 12.497484403300463 % has finished\n",
      "# Progress 12.899979875226403 % has finished\n",
      "# Progress 13.302475347152345 % has finished\n",
      "# Progress 13.704970819078286 % has finished\n",
      "# Progress 14.107466291004226 % has finished\n",
      "# Progress 14.509961762930168 % has finished\n",
      "# Progress 14.912457234856108 % has finished\n",
      "# Progress 15.314952706782048 % has finished\n",
      "# Progress 15.71744817870799 % has finished\n",
      "# Progress 16.11994365063393 % has finished\n",
      "# Progress 16.52243912255987 % has finished\n",
      "# Progress 16.924934594485812 % has finished\n",
      "# Progress 17.327430066411754 % has finished\n",
      "# Progress 17.729925538337692 % has finished\n",
      "# Progress 18.132421010263634 % has finished\n",
      "# Progress 18.534916482189576 % has finished\n",
      "# Progress 18.937411954115515 % has finished\n"
     ]
    }
   ],
   "source": [
    "import predict\n",
    "\n",
    "prompt_file = \"Prompts/answer_simplefy.txt\"\n",
    "save_file = \"submission_simplest_8bit.npy\"\n",
    "load_in_4bit = False\n",
    "model_path = \"./models/mini_cpm_raw\"\n",
    "\n",
    "predict.run_prediction(prompt_file, save_file, load_in_4bit, model_path)\n"
   ]
  },
  {
   "cell_type": "code",
   "execution_count": 2,
   "metadata": {},
   "outputs": [
    {
     "name": "stdout",
     "output_type": "stream",
     "text": [
      "データをCSVファイルとして保存しました: Submission/submission_classify_unanswerable_8bit_53812.csv\n"
     ]
    }
   ],
   "source": [
    "import numpy as np\n",
    "import pandas as pd\n",
    "# npyファイルを読み込む\n",
    "npy_file_path = 'Submission/submission_classify_unanswerable_8bit_53812.npy'\n",
    "data = np.load(npy_file_path)\n",
    "\n",
    "# データをDataFrameに変換\n",
    "df = pd.DataFrame(data)\n",
    "\n",
    "# CSVファイルとして保存\n",
    "csv_file_path = 'Submission/submission_classify_unanswerable_8bit_53812.csv'\n",
    "df.to_csv(csv_file_path, index=False, header=False)\n",
    "\n",
    "print(f\"データをCSVファイルとして保存しました: {csv_file_path}\")\n",
    "import notify\n",
    "notify.send_email(\"title send classification\",\"this is the result of classification\",attachment_path=\"Submission/submission_classify_unanswerable_8bit_53812.csv\")"
   ]
  }
 ],
 "metadata": {
  "kernelspec": {
   "display_name": "env",
   "language": "python",
   "name": "python3"
  },
  "language_info": {
   "codemirror_mode": {
    "name": "ipython",
    "version": 3
   },
   "file_extension": ".py",
   "mimetype": "text/x-python",
   "name": "python",
   "nbconvert_exporter": "python",
   "pygments_lexer": "ipython3",
   "version": "3.11.9"
  }
 },
 "nbformat": 4,
 "nbformat_minor": 2
}
