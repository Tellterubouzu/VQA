{
 "cells": [
  {
   "cell_type": "code",
   "execution_count": 1,
   "metadata": {},
   "outputs": [
    {
     "name": "stdout",
     "output_type": "stream",
     "text": [
      "CSVファイルが 不正.csv に保存されました。\n"
     ]
    }
   ],
   "source": [
    "import numpy as np\n",
    "import pandas as pd\n",
    "\n",
    "# npyファイルの読み込み\n",
    "npy_file_path = 'Submission/submission56174.npy'\n",
    "data = np.load(npy_file_path)\n",
    "\n",
    "# DataFrameに変換\n",
    "df = pd.DataFrame(data)\n",
    "\n",
    "# CSVファイルに保存\n",
    "csv_file_path = '不正.csv'\n",
    "df.to_csv(csv_file_path, index=False)\n",
    "\n",
    "print(f'CSVファイルが {csv_file_path} に保存されました。')\n"
   ]
  },
  {
   "cell_type": "code",
   "execution_count": 4,
   "metadata": {},
   "outputs": [
    {
     "name": "stdout",
     "output_type": "stream",
     "text": [
      "npyファイルが submission_test.npy に保存されました。\n"
     ]
    }
   ],
   "source": [
    "import numpy as np\n",
    "import pandas as pd\n",
    "\n",
    "# CSVファイルの読み込み\n",
    "csv_file_path = '不正.csv'\n",
    "df = pd.read_csv(csv_file_path)\n",
    "\n",
    "# データをリストに変換\n",
    "data = []\n",
    "for x in range(len(df)):\n",
    "    data.append(df.iloc[x].values)\n",
    "\n",
    "# npyファイルに保存\n",
    "npy_file_path = 'submission_test.npy'\n",
    "np.save(npy_file_path, data)\n",
    "\n",
    "print(f'npyファイルが {npy_file_path} に保存されました。')\n"
   ]
  },
  {
   "cell_type": "code",
   "execution_count": 5,
   "metadata": {},
   "outputs": [
    {
     "name": "stdout",
     "output_type": "stream",
     "text": [
      "npyファイルが submission_test.npy に保存されました。\n"
     ]
    }
   ],
   "source": [
    "import numpy as np\n",
    "import pandas as pd\n",
    "\n",
    "# CSVファイルの読み込み\n",
    "csv_file_path = '不正.csv'\n",
    "df = pd.read_csv(csv_file_path)\n",
    "\n",
    "# データをNumPy配列に変換\n",
    "data = df.values\n",
    "\n",
    "# npyファイルに保存\n",
    "npy_file_path = 'submission_test.npy'\n",
    "np.save(npy_file_path, data)\n",
    "\n",
    "print(f'npyファイルが {npy_file_path} に保存されました。')\n"
   ]
  },
  {
   "cell_type": "code",
   "execution_count": 1,
   "metadata": {},
   "outputs": [
    {
     "name": "stdout",
     "output_type": "stream",
     "text": [
      "処理が完了し、result.npyが作成されました。\n"
     ]
    }
   ],
   "source": [
    "import numpy as np\n",
    "\n",
    "# classify.npyとpredict.npyの読み込み\n",
    "classify = np.load('Submission/submission_classify_unanswerable_8bit.npy')\n",
    "predict = np.load('Submission/submission56174.npy')\n",
    "\n",
    "# 新しい配列を作成するためのリスト\n",
    "result = []\n",
    "\n",
    "# classify.npyの各行をチェックし、条件に従って新しい配列を作成\n",
    "for i, classification in enumerate(classify):\n",
    "    if classification == \"unanswerable\":\n",
    "        result.append(\"unanswerable\")\n",
    "    else:\n",
    "        result.append(predict[i])\n",
    "\n",
    "# リストをnumpy配列に変換\n",
    "result_array = np.array(result)\n",
    "\n",
    "# 結果を新しいnpyファイルとして保存\n",
    "np.save('result.npy', result_array)\n",
    "\n",
    "print(\"処理が完了し、result.npyが作成されました。\")\n"
   ]
  },
  {
   "cell_type": "code",
   "execution_count": 3,
   "metadata": {},
   "outputs": [
    {
     "name": "stdout",
     "output_type": "stream",
     "text": [
      "処理が完了し、result.npyが作成されました。3094\n"
     ]
    }
   ],
   "source": [
    "import numpy as np\n",
    "\n",
    "# classify.npyとpredict.npyの読み込み\n",
    "classify = np.load('Submission/submission_classify_unanswerable_8bit.npy')\n",
    "predict = np.load('Submission/submission56174.npy')\n",
    "\n",
    "# 新しい配列を作成するためのリスト\n",
    "result = []\n",
    "counter = 0\n",
    "\n",
    "# classify.npyの各行をチェックし、条件に従って新しい配列を作成\n",
    "for i, classification in enumerate(classify):\n",
    "    if classification == \"unanswerable\":\n",
    "        counter +=1\n",
    "\n",
    "print(f\"処理が完了し、result.npyが作成されました。{counter}\")\n"
   ]
  },
  {
   "cell_type": "code",
   "execution_count": 4,
   "metadata": {},
   "outputs": [
    {
     "name": "stdout",
     "output_type": "stream",
     "text": [
      "処理が完了し、result.npyが作成されました。4968\n"
     ]
    }
   ],
   "source": [
    "import numpy as np\n",
    "\n",
    "# classify.npyとpredict.npyの読み込み\n",
    "classify = np.load('Submission/submission47872_all_unanswerable.npy')\n",
    "# 新しい配列を作成するためのリスト\n",
    "result = []\n",
    "counter = 0\n",
    "\n",
    "# classify.npyの各行をチェックし、条件に従って新しい配列を作成\n",
    "for i, classification in enumerate(classify):\n",
    "    if classification == \"unanswerable\":\n",
    "        counter +=1\n",
    "\n",
    "print(f\"処理が完了し、result.npyが作成されました。{counter}\")\n"
   ]
  },
  {
   "cell_type": "code",
   "execution_count": null,
   "metadata": {},
   "outputs": [],
   "source": [
    "import numpy as np\n",
    "\n",
    "# classify.npyとpredict.npyの読み込み\n",
    "classify = np.load('Submission/submission56174.npy')\n",
    "# 新しい配列を作成するためのリスト\n",
    "result = []\n",
    "counter = 0\n",
    "\n",
    "# classify.npyの各行をチェックし、条件に従って新しい配列を作成\n",
    "for i, classification in enumerate(classify):\n",
    "    if classification == \"unanswerable\":\n",
    "        counter +=1\n",
    "\n",
    "print(f\"処理が完了し、result.npyが作成されました。{counter}\")\n"
   ]
  }
 ],
 "metadata": {
  "kernelspec": {
   "display_name": ".venv",
   "language": "python",
   "name": "python3"
  },
  "language_info": {
   "codemirror_mode": {
    "name": "ipython",
    "version": 3
   },
   "file_extension": ".py",
   "mimetype": "text/x-python",
   "name": "python",
   "nbconvert_exporter": "python",
   "pygments_lexer": "ipython3",
   "version": "3.11.0rc1"
  }
 },
 "nbformat": 4,
 "nbformat_minor": 2
}
